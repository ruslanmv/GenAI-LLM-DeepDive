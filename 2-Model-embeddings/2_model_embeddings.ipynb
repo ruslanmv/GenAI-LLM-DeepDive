{
 "cells": [
  {
   "cell_type": "code",
   "execution_count": null,
   "metadata": {},
   "outputs": [],
   "source": [
    "# Make sure to install the necessary libraries\n",
    "#pip install transformers==4.29.2\n",
    "#pip install scipy==1.7.3\n",
    "\n",
    "# Importing necessary modules\n",
    "from transformers import BertModel, AutoTokenizer\n",
    "from scipy.spatial.distance import cosine\n",
    "\n",
    "# Defining the model name\n",
    "model_name = \"bert-base-cased\"\n",
    "\n",
    "# Loading the pre-trained model and tokenizer\n",
    "model = BertModel.from_pretrained(model_name)\n",
    "tokenizer = AutoTokenizer.from_pretrained(model_name)\n",
    "\n",
    "\n",
    "# Defining a function to encode the input text and get model predictions\n",
    "def predict(text):\n",
    "    encoded_inputs = tokenizer(text, return_tensors=\"pt\")\n",
    "    return model(**encoded_inputs)[0]\n",
    "\n",
    "\n",
    "# Defining the sentences\n",
    "sentence1 = \"There was a fly drinking from my soup\"\n",
    "sentence2 = \"There is a fly swimming in my juice\"\n",
    "# sentence2 = \"To become a commercial pilot, he had to fly for 1500 hours.\" # second fly example\n",
    "\n",
    "# Tokenizing the sentences\n",
    "tokens1 = tokenizer.tokenize(sentence1)\n",
    "tokens2 = tokenizer.tokenize(sentence2)\n"
   ]
  },
  {
   "cell_type": "code",
   "execution_count": null,
   "metadata": {},
   "outputs": [],
   "source": [
    "\n",
    "# Getting model predictions for the sentences\n",
    "out1 = predict(sentence1)\n",
    "out2 = predict(sentence2)\n",
    "\n",
    "# Extracting embeddings for the word 'fly' in both sentences\n",
    "emb1 = out1[0:, tokens1.index(\"fly\"), :].detach()[0]\n",
    "emb2 = out2[0:, tokens2.index(\"fly\"), :].detach()[0]\n",
    "\n",
    "# emb1 = out1[0:, 3, :].detach()\n",
    "# emb2 = out2[0:, 3, :].detach()\n",
    "\n",
    "\n",
    "emb1.shape\n",
    "emb2.shape\n",
    "\n",
    "# Calculating the cosine similarity between the embeddings\n",
    "cosine(emb1, emb2)\n"
   ]
  },
  {
   "cell_type": "code",
   "execution_count": null,
   "metadata": {},
   "outputs": [],
   "source": []
  }
 ],
 "metadata": {
  "language_info": {
   "name": "python"
  }
 },
 "nbformat": 4,
 "nbformat_minor": 2
}
