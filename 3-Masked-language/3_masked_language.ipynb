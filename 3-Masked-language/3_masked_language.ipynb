{
 "cells": [
  {
   "cell_type": "code",
   "execution_count": null,
   "metadata": {},
   "outputs": [],
   "source": [
    "# Installing the necessary libraries\n",
    "!pip install transformers==4.20.1\n",
    "!pip install pandas==1.3.5\n",
    "!pip install numpy==1.21.5\n",
    "!pip install scipy==1.7.3"
   ]
  },
  {
   "cell_type": "code",
   "execution_count": null,
   "metadata": {},
   "outputs": [],
   "source": [
    "# Importing necessary modules\n",
    "from transformers import AutoModelForMaskedLM, AutoTokenizer\n",
    "import pandas as pd\n",
    "import numpy as np\n",
    "from scipy.special import softmax"
   ]
  },
  {
   "cell_type": "code",
   "execution_count": null,
   "metadata": {},
   "outputs": [],
   "source": [
    "# Defining the model name\n",
    "model_name = \"bert-base-cased\"\n",
    "\n",
    "# Loading the pre-trained model and tokenizer\n",
    "model = AutoModelForMaskedLM.from_pretrained(model_name)\n",
    "tokenizer = AutoTokenizer.from_pretrained(model_name)"
   ]
  },
  {
   "cell_type": "code",
   "execution_count": null,
   "metadata": {},
   "outputs": [],
   "source": [
    "# Defining the mask token\n",
    "mask = tokenizer.mask_token\n",
    "\n",
    "# Defining the sentence\n",
    "sentence = f\"I want to {mask} pizza for tonight.\"\n",
    "\n",
    "# Tokenizing the sentence\n",
    "tokens = tokenizer.tokenize(sentence)"
   ]
  },
  {
   "cell_type": "code",
   "execution_count": null,
   "metadata": {},
   "outputs": [],
   "source": [
    "# Encoding the input sentence and getting model predictions\n",
    "encoded_inputs = tokenizer(sentence, return_tensors=\"pt\")\n",
    "output = model(**encoded_inputs)\n",
    "\n",
    "# Detaching the logits from the model output and converting to numpy array\n",
    "logits = output.logits.detach().numpy()[0]"
   ]
  },
  {
   "cell_type": "code",
   "execution_count": null,
   "metadata": {},
   "outputs": [],
   "source": [
    "# Extracting the logits for the masked token and calculating the confidence scores\n",
    "masked_logits = logits[tokens.index(mask) + 1]\n",
    "confidence_scores = softmax(masked_logits)"
   ]
  },
  {
   "cell_type": "code",
   "execution_count": null,
   "metadata": {},
   "outputs": [],
   "source": [
    "# Iterating over the top 5 predicted tokens and printing the sentences with the masked token replaced\n",
    "for i in np.argsort(confidence_scores)[::-1][:5]:\n",
    "    pred_token = tokenizer.decode(i)\n",
    "    score = confidence_scores[i]\n",
    "\n",
    "    # print(pred_token, score)\n",
    "    print(sentence.replace(mask, pred_token))"
   ]
  }
 ],
 "metadata": {
  "language_info": {
   "name": "python"
  }
 },
 "nbformat": 4,
 "nbformat_minor": 2
}
